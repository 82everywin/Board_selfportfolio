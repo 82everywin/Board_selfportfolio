{
  "nbformat": 4,
  "nbformat_minor": 0,
  "metadata": {
    "colab": {
      "provenance": [],
      "authorship_tag": "ABX9TyPtzjkMgQ4EMllWDHCeAex0",
      "include_colab_link": true
    },
    "kernelspec": {
      "name": "python3",
      "display_name": "Python 3"
    },
    "language_info": {
      "name": "python"
    }
  },
  "cells": [
    {
      "cell_type": "markdown",
      "metadata": {
        "id": "view-in-github",
        "colab_type": "text"
      },
      "source": [
        "<a href=\"https://colab.research.google.com/github/82everywin/Board_selfportfolio/blob/master/0__%ED%8C%8C%EC%9D%B4%ED%86%A0%EC%B9%98.ipynb\" target=\"_parent\"><img src=\"https://colab.research.google.com/assets/colab-badge.svg\" alt=\"Open In Colab\"/></a>"
      ]
    },
    {
      "cell_type": "markdown",
      "source": [
        "# **1. 파이토치**\n",
        "\n",
        "- Tensorflow 와 함께 머신러닝, 딥러닝에서 가장 널리 사용되는 프레임워크\n",
        "- 초기에는 Torch라는 이름으로 Lua언어 기반으로 만들어졌으나, 파이썬 기반으로 변겅한 것이 PyTorch\n",
        "- 뉴욕대학교와 페이스북(메타)이 공동으로 개발하였고, 현재 가장 대중적임 .\n"
      ],
      "metadata": {
        "id": "VCb98K47kMly"
      }
    },
    {
      "cell_type": "code",
      "source": [
        "import torch\n",
        "print(torch.__version__)"
      ],
      "metadata": {
        "colab": {
          "base_uri": "https://localhost:8080/"
        },
        "id": "Itdp0hSHkzjP",
        "outputId": "53839249-1f2b-4862-e4c5-ad35d41a9b30"
      },
      "execution_count": 1,
      "outputs": [
        {
          "output_type": "stream",
          "name": "stdout",
          "text": [
            "2.1.0+cu118\n"
          ]
        }
      ]
    },
    {
      "cell_type": "markdown",
      "source": [
        "### 1-1. 스칼라(Scalar)\n",
        "- 하나의 상수를 의미"
      ],
      "metadata": {
        "id": "MRX5C6mtlpKC"
      }
    },
    {
      "cell_type": "code",
      "source": [
        "var1= torch.tensor([1])"
      ],
      "metadata": {
        "id": "syriuGhSlt2v"
      },
      "execution_count": 2,
      "outputs": []
    },
    {
      "cell_type": "code",
      "source": [
        "var1"
      ],
      "metadata": {
        "colab": {
          "base_uri": "https://localhost:8080/"
        },
        "id": "P-GsXaxHlwgZ",
        "outputId": "fb443ec4-df97-4dae-c4de-4e820cc2195e"
      },
      "execution_count": 3,
      "outputs": [
        {
          "output_type": "execute_result",
          "data": {
            "text/plain": [
              "tensor([1])"
            ]
          },
          "metadata": {},
          "execution_count": 3
        }
      ]
    },
    {
      "cell_type": "code",
      "source": [
        "var2 = torch.tensor([3.1])"
      ],
      "metadata": {
        "id": "QDOjQLnUlyVb"
      },
      "execution_count": 8,
      "outputs": []
    },
    {
      "cell_type": "code",
      "source": [
        "var2"
      ],
      "metadata": {
        "colab": {
          "base_uri": "https://localhost:8080/"
        },
        "id": "RRN3D4vrl1em",
        "outputId": "692275d4-082b-4512-e685-3f1bdf44c354"
      },
      "execution_count": 9,
      "outputs": [
        {
          "output_type": "execute_result",
          "data": {
            "text/plain": [
              "tensor([3.1000])"
            ]
          },
          "metadata": {},
          "execution_count": 9
        }
      ]
    },
    {
      "cell_type": "code",
      "source": [
        "# 두 스칼라의 사칙연산\n",
        "print(var1 + var2)\n",
        "print(var1 - var2)\n",
        "print(var1 * var2)\n",
        "print(var1 / var2)"
      ],
      "metadata": {
        "colab": {
          "base_uri": "https://localhost:8080/"
        },
        "id": "1JLxiI2rmC6w",
        "outputId": "57c6e5ac-45f8-41a9-ca3f-92b5b2235101"
      },
      "execution_count": 10,
      "outputs": [
        {
          "output_type": "stream",
          "name": "stdout",
          "text": [
            "tensor([4.1000])\n",
            "tensor([-2.1000])\n",
            "tensor([3.1000])\n",
            "tensor([0.3226])\n"
          ]
        }
      ]
    },
    {
      "cell_type": "markdown",
      "source": [
        "### 1-2. 벡터(Vector)\n",
        "- 상수가 두 개 이상 나열되었을 경우"
      ],
      "metadata": {
        "id": "Qi7mIAXgmM1b"
      }
    },
    {
      "cell_type": "code",
      "source": [
        "vec1 = torch.tensor([1,2,3])\n",
        "vec1"
      ],
      "metadata": {
        "colab": {
          "base_uri": "https://localhost:8080/"
        },
        "id": "bwZRzA5NmZka",
        "outputId": "236061a3-64ac-4db4-a878-f0ac5ebf6269"
      },
      "execution_count": 12,
      "outputs": [
        {
          "output_type": "execute_result",
          "data": {
            "text/plain": [
              "tensor([1, 2, 3])"
            ]
          },
          "metadata": {},
          "execution_count": 12
        }
      ]
    },
    {
      "cell_type": "code",
      "source": [
        "vec2 =torch.tensor([10,20,30])\n",
        "vec2"
      ],
      "metadata": {
        "colab": {
          "base_uri": "https://localhost:8080/"
        },
        "id": "498NuOvNmpHN",
        "outputId": "50ccb71e-0f9c-43eb-e431-98eb1628e136"
      },
      "execution_count": 14,
      "outputs": [
        {
          "output_type": "execute_result",
          "data": {
            "text/plain": [
              "tensor([10, 20, 30])"
            ]
          },
          "metadata": {},
          "execution_count": 14
        }
      ]
    },
    {
      "cell_type": "code",
      "source": [
        "print(vec1 + vec2)\n",
        "print(vec1 - vec2)\n",
        "print(vec1 * vec2)\n",
        "print(vec1 / vec2)"
      ],
      "metadata": {
        "colab": {
          "base_uri": "https://localhost:8080/"
        },
        "id": "JM58OkZhmxpS",
        "outputId": "990e8a01-f4d9-4464-8bc9-80d2eb60a430"
      },
      "execution_count": 16,
      "outputs": [
        {
          "output_type": "stream",
          "name": "stdout",
          "text": [
            "tensor([11, 22, 33])\n",
            "tensor([ -9, -18, -27])\n",
            "tensor([10, 40, 90])\n",
            "tensor([0.1000, 0.1000, 0.1000])\n"
          ]
        }
      ]
    },
    {
      "cell_type": "code",
      "source": [
        "vec3 = torch.tensor([10,20,30,40])\n",
        "vec3"
      ],
      "metadata": {
        "colab": {
          "base_uri": "https://localhost:8080/"
        },
        "id": "0-g1V_zumrAO",
        "outputId": "421929a3-385a-4724-9971-6510493f0128"
      },
      "execution_count": 17,
      "outputs": [
        {
          "output_type": "execute_result",
          "data": {
            "text/plain": [
              "tensor([10, 20, 30, 40])"
            ]
          },
          "metadata": {},
          "execution_count": 17
        }
      ]
    },
    {
      "cell_type": "code",
      "source": [
        "# The size of tensor a (3) must match the size of tensor b (4) at non-singleton dimension 0\n",
        "# print(vec1 + vec3)\n",
        "# print(vec1 - vec3)\n",
        "# print(vec1 * vec3)\n",
        "# print(vec1 / vec3)"
      ],
      "metadata": {
        "colab": {
          "base_uri": "https://localhost:8080/",
          "height": 240
        },
        "id": "B8ULesixnHv5",
        "outputId": "24f10528-ac66-4ac5-adba-1d578549f98c"
      },
      "execution_count": 18,
      "outputs": [
        {
          "output_type": "error",
          "ename": "RuntimeError",
          "evalue": "ignored",
          "traceback": [
            "\u001b[0;31m---------------------------------------------------------------------------\u001b[0m",
            "\u001b[0;31mRuntimeError\u001b[0m                              Traceback (most recent call last)",
            "\u001b[0;32m<ipython-input-18-84850b6743c6>\u001b[0m in \u001b[0;36m<cell line: 1>\u001b[0;34m()\u001b[0m\n\u001b[0;32m----> 1\u001b[0;31m \u001b[0mprint\u001b[0m\u001b[0;34m(\u001b[0m\u001b[0mvec1\u001b[0m \u001b[0;34m+\u001b[0m \u001b[0mvec3\u001b[0m\u001b[0;34m)\u001b[0m\u001b[0;34m\u001b[0m\u001b[0;34m\u001b[0m\u001b[0m\n\u001b[0m\u001b[1;32m      2\u001b[0m \u001b[0mprint\u001b[0m\u001b[0;34m(\u001b[0m\u001b[0mvec1\u001b[0m \u001b[0;34m-\u001b[0m \u001b[0mvec3\u001b[0m\u001b[0;34m)\u001b[0m\u001b[0;34m\u001b[0m\u001b[0;34m\u001b[0m\u001b[0m\n\u001b[1;32m      3\u001b[0m \u001b[0mprint\u001b[0m\u001b[0;34m(\u001b[0m\u001b[0mvec1\u001b[0m \u001b[0;34m*\u001b[0m \u001b[0mvec3\u001b[0m\u001b[0;34m)\u001b[0m\u001b[0;34m\u001b[0m\u001b[0;34m\u001b[0m\u001b[0m\n\u001b[1;32m      4\u001b[0m \u001b[0mprint\u001b[0m\u001b[0;34m(\u001b[0m\u001b[0mvec1\u001b[0m \u001b[0;34m/\u001b[0m \u001b[0mvec3\u001b[0m\u001b[0;34m)\u001b[0m\u001b[0;34m\u001b[0m\u001b[0;34m\u001b[0m\u001b[0m\n",
            "\u001b[0;31mRuntimeError\u001b[0m: The size of tensor a (3) must match the size of tensor b (4) at non-singleton dimension 0"
          ]
        }
      ]
    },
    {
      "cell_type": "markdown",
      "source": [
        "## 1-3. 행렬(Matrix)\n",
        "- 2개 이상의 벡터 값을 가지고 만들어진 값으로 행과 열의 개념을 가진 숫자의 나열"
      ],
      "metadata": {
        "id": "OEMctyVJnWbz"
      }
    },
    {
      "cell_type": "code",
      "source": [
        "mat1 = torch.tensor([[1,2],[3,4]])\n",
        "print(mat1)"
      ],
      "metadata": {
        "colab": {
          "base_uri": "https://localhost:8080/"
        },
        "id": "7NSSZeiHnuy9",
        "outputId": "f6a7e5bc-254a-4097-d69f-d4362c00a013"
      },
      "execution_count": 20,
      "outputs": [
        {
          "output_type": "stream",
          "name": "stdout",
          "text": [
            "tensor([[1, 2],\n",
            "        [3, 4]])\n"
          ]
        }
      ]
    },
    {
      "cell_type": "code",
      "source": [
        "mat2 = torch.tensor([[7,8],[9,10]])\n",
        "print(mat2)"
      ],
      "metadata": {
        "colab": {
          "base_uri": "https://localhost:8080/"
        },
        "id": "qwGI3IVun960",
        "outputId": "68907c3e-34a4-478d-ae44-2f272382d495"
      },
      "execution_count": 21,
      "outputs": [
        {
          "output_type": "stream",
          "name": "stdout",
          "text": [
            "tensor([[ 7,  8],\n",
            "        [ 9, 10]])\n"
          ]
        }
      ]
    },
    {
      "cell_type": "code",
      "source": [
        "mat3 = torch.tensor([[7,8,9],[10,11,12]])\n",
        "print(mat3)"
      ],
      "metadata": {
        "colab": {
          "base_uri": "https://localhost:8080/"
        },
        "id": "HIm50SkxoQSF",
        "outputId": "99388b33-e46c-4af7-c42c-067c96a90ed1"
      },
      "execution_count": 22,
      "outputs": [
        {
          "output_type": "stream",
          "name": "stdout",
          "text": [
            "tensor([[ 7,  8,  9],\n",
            "        [10, 11, 12]])\n"
          ]
        }
      ]
    },
    {
      "cell_type": "code",
      "source": [
        "# 두 행렬의 사칙연산\n",
        "print(mat1 + mat2)\n",
        "print(mat1 - mat2)\n",
        "print(mat1 / mat2)\n",
        "print(mat1 * mat2)"
      ],
      "metadata": {
        "colab": {
          "base_uri": "https://localhost:8080/"
        },
        "id": "8HVnoogooD7u",
        "outputId": "190c9a22-6fde-44fd-df06-daed7f41c8b4"
      },
      "execution_count": 23,
      "outputs": [
        {
          "output_type": "stream",
          "name": "stdout",
          "text": [
            "tensor([[ 8, 10],\n",
            "        [12, 14]])\n",
            "tensor([[-6, -6],\n",
            "        [-6, -6]])\n",
            "tensor([[0.1429, 0.2500],\n",
            "        [0.3333, 0.4000]])\n",
            "tensor([[ 7, 16],\n",
            "        [27, 40]])\n"
          ]
        }
      ]
    },
    {
      "cell_type": "markdown",
      "source": [
        "1-4. 텐서(Tensor)\n",
        "- 다수의 행렬이 모이면 텐서\n",
        "- 배열이나 행렬과 매우 유사한 특수 자료구조\n",
        "- 파이토치는 텐서를 사용하여 모델의 입력과 출력, 모델의"
      ],
      "metadata": {
        "id": "zSJ6Cm5loc_M"
      }
    },
    {
      "cell_type": "code",
      "source": [
        "A = torch.tensor([1,2,3],[4,5,6])\n",
        "B = torch.tensor([10,20,30])\n",
        "\n",
        "# 브로드 캐스팅을 사용하여 A  와 B 병합\n"
      ],
      "metadata": {
        "id": "-vdF_h1oqHns"
      },
      "execution_count": null,
      "outputs": []
    },
    {
      "cell_type": "code",
      "source": [
        "tensor1 = torch.tensor([[1,2],[3,4],[5,6],[7,8]])\n",
        "print(tensor1)\n"
      ],
      "metadata": {
        "colab": {
          "base_uri": "https://localhost:8080/"
        },
        "id": "JbLmbMQaqZxX",
        "outputId": "cb03ca0d-4fed-430d-f1e3-bb630fb15091"
      },
      "execution_count": 24,
      "outputs": [
        {
          "output_type": "stream",
          "name": "stdout",
          "text": [
            "tensor([[1, 2],\n",
            "        [3, 4],\n",
            "        [5, 6],\n",
            "        [7, 8]])\n"
          ]
        }
      ]
    },
    {
      "cell_type": "code",
      "source": [
        "tensor2 = torch.tensor([[10,11],[12,13],[14,15],[16,17]])\n",
        "print(tensor2)"
      ],
      "metadata": {
        "colab": {
          "base_uri": "https://localhost:8080/"
        },
        "id": "Wf6i_wDWquIx",
        "outputId": "5e2a8b1a-e015-4c61-f8c7-0180fb38ddab"
      },
      "execution_count": 26,
      "outputs": [
        {
          "output_type": "stream",
          "name": "stdout",
          "text": [
            "tensor([[10, 11],\n",
            "        [12, 13],\n",
            "        [14, 15],\n",
            "        [16, 17]])\n"
          ]
        }
      ]
    },
    {
      "cell_type": "code",
      "source": [
        "print(tensor1 + tensor2)"
      ],
      "metadata": {
        "colab": {
          "base_uri": "https://localhost:8080/"
        },
        "id": "y6EJDYHZrFL5",
        "outputId": "4e6b5e88-7ae9-447a-a420-ed6527f4eb5b"
      },
      "execution_count": 27,
      "outputs": [
        {
          "output_type": "stream",
          "name": "stdout",
          "text": [
            "tensor([[11, 13],\n",
            "        [15, 17],\n",
            "        [19, 21],\n",
            "        [23, 25]])\n"
          ]
        }
      ]
    },
    {
      "cell_type": "code",
      "source": [
        "print(torch.add(tensor1,tensor2))\n",
        "print('================================')\n",
        "print(torch.subtract(tensor1,tensor2))\n",
        "print('================================')\n",
        "print(torch.multiply(tensor1,tensor2))\n",
        "print('================================')\n",
        "print(torch.divide(tensor1,tensor2))"
      ],
      "metadata": {
        "colab": {
          "base_uri": "https://localhost:8080/"
        },
        "id": "CApKP55ArUze",
        "outputId": "b0ff4c50-d79f-4901-8092-66a08810242a"
      },
      "execution_count": 32,
      "outputs": [
        {
          "output_type": "stream",
          "name": "stdout",
          "text": [
            "tensor([[11, 13],\n",
            "        [15, 17],\n",
            "        [19, 21],\n",
            "        [23, 25]])\n",
            "================================\n",
            "tensor([[-9, -9],\n",
            "        [-9, -9],\n",
            "        [-9, -9],\n",
            "        [-9, -9]])\n",
            "================================\n",
            "tensor([[ 10,  22],\n",
            "        [ 36,  52],\n",
            "        [ 70,  90],\n",
            "        [112, 136]])\n",
            "================================\n",
            "tensor([[0.1000, 0.1818],\n",
            "        [0.2500, 0.3077],\n",
            "        [0.3571, 0.4000],\n",
            "        [0.4375, 0.4706]])\n"
          ]
        }
      ]
    },
    {
      "cell_type": "code",
      "source": [
        "# tensor1 에 결과를 다시 전장.\n",
        "tensor1.add_(tensor2)"
      ],
      "metadata": {
        "colab": {
          "base_uri": "https://localhost:8080/"
        },
        "id": "6kEmx_RCqpci",
        "outputId": "5888cb6a-7502-4f29-9f4b-574b6897fdcc"
      },
      "execution_count": 34,
      "outputs": [
        {
          "output_type": "execute_result",
          "data": {
            "text/plain": [
              "tensor([[21, 24],\n",
              "        [27, 30],\n",
              "        [33, 36],\n",
              "        [39, 42]])"
            ]
          },
          "metadata": {},
          "execution_count": 34
        }
      ]
    },
    {
      "cell_type": "markdown",
      "source": [
        "### 2. 텐서의 변환\n"
      ],
      "metadata": {
        "id": "hyOydKuhsJqO"
      }
    },
    {
      "cell_type": "code",
      "source": [
        "data =[[1,2],[3,4]]"
      ],
      "metadata": {
        "id": "Y5K5f0U7slyo"
      },
      "execution_count": 38,
      "outputs": []
    },
    {
      "cell_type": "code",
      "source": [
        "import numpy as np"
      ],
      "metadata": {
        "id": "oKrf4pEjstxi"
      },
      "execution_count": 37,
      "outputs": []
    },
    {
      "cell_type": "code",
      "source": [
        "np_array = np.array(data)\n",
        "np_array"
      ],
      "metadata": {
        "colab": {
          "base_uri": "https://localhost:8080/"
        },
        "id": "77XhH-ARsyn3",
        "outputId": "801db0f6-ee5f-4f4c-e728-8b66b6802f18"
      },
      "execution_count": 40,
      "outputs": [
        {
          "output_type": "execute_result",
          "data": {
            "text/plain": [
              "array([[1, 2],\n",
              "       [3, 4]])"
            ]
          },
          "metadata": {},
          "execution_count": 40
        }
      ]
    },
    {
      "cell_type": "code",
      "source": [
        "x_np_1 = torch.as_tensor([[1,2],[3,4]])"
      ],
      "metadata": {
        "id": "7c_3Be82s5Lb"
      },
      "execution_count": 45,
      "outputs": []
    },
    {
      "cell_type": "code",
      "source": [
        "# 인덱싱 ? okay\n",
        "x_np_1[0,0]=100\n"
      ],
      "metadata": {
        "id": "9vx3IqSqtMQv"
      },
      "execution_count": 47,
      "outputs": []
    },
    {
      "cell_type": "code",
      "source": [
        "# as_tensor : ndarray 와 동일한 메모리 주조슬 가리키는 뷰를 만듦\n",
        "# from_numpy : ndarray 와 동일한 메모리 주조슬 가리키는 뷰를 만듦\n",
        "\n",
        "x_np_2=  torch.as_tensor(np_array)\n"
      ],
      "metadata": {
        "id": "QO8CNhurs2kX"
      },
      "execution_count": 41,
      "outputs": []
    },
    {
      "cell_type": "code",
      "source": [
        "print(x_np_2)\n",
        "x_np_2[0,0]=200\n",
        "print(x_np_2)\n",
        "print(np_array)"
      ],
      "metadata": {
        "colab": {
          "base_uri": "https://localhost:8080/"
        },
        "id": "zURKOdPftwvu",
        "outputId": "60f86e52-160f-4053-f06f-6ca19f4abc5f"
      },
      "execution_count": 42,
      "outputs": [
        {
          "output_type": "stream",
          "name": "stdout",
          "text": [
            "tensor([[1, 2],\n",
            "        [3, 4]])\n",
            "tensor([[200,   2],\n",
            "        [  3,   4]])\n",
            "[[200   2]\n",
            " [  3   4]]\n"
          ]
        }
      ]
    },
    {
      "cell_type": "code",
      "source": [
        "# 반대로도 확인\n",
        "print(\"==================================\")\n",
        "np_array[0,0]= 500\n",
        "print(x_np_2)\n",
        "print(np_array)"
      ],
      "metadata": {
        "colab": {
          "base_uri": "https://localhost:8080/"
        },
        "id": "rBma-5xxuFyy",
        "outputId": "7fe288a6-4821-4c7e-b285-907472266f36"
      },
      "execution_count": 43,
      "outputs": [
        {
          "output_type": "stream",
          "name": "stdout",
          "text": [
            "==================================\n",
            "tensor([[500,   2],\n",
            "        [  3,   4]])\n",
            "[[500   2]\n",
            " [  3   4]]\n"
          ]
        }
      ]
    },
    {
      "cell_type": "code",
      "source": [
        "np_again = x_np_1.numpy()\n",
        "print(np_again, type(np_again))"
      ],
      "metadata": {
        "colab": {
          "base_uri": "https://localhost:8080/"
        },
        "id": "o71CaRmnusw6",
        "outputId": "f06bda41-cacf-4219-d571-2b5ff78be9a5"
      },
      "execution_count": 48,
      "outputs": [
        {
          "output_type": "stream",
          "name": "stdout",
          "text": [
            "[[100   2]\n",
            " [  3   4]] <class 'numpy.ndarray'>\n"
          ]
        }
      ]
    },
    {
      "cell_type": "markdown",
      "source": [
        "# **3. 파이토치 함수**"
      ],
      "metadata": {
        "id": "zr918xuCvQs5"
      }
    },
    {
      "cell_type": "code",
      "source": [
        "a = torch.ones(2,3)\n",
        "print(a)"
      ],
      "metadata": {
        "colab": {
          "base_uri": "https://localhost:8080/"
        },
        "id": "bMcA9tz0y0kW",
        "outputId": "dc0e2ac8-a608-485a-b189-dbea341b1d37"
      },
      "execution_count": 50,
      "outputs": [
        {
          "output_type": "stream",
          "name": "stdout",
          "text": [
            "tensor([[1., 1., 1.],\n",
            "        [1., 1., 1.]])\n"
          ]
        }
      ]
    },
    {
      "cell_type": "code",
      "source": [
        "b= torch.zeros(2,3)\n",
        "print(b)"
      ],
      "metadata": {
        "colab": {
          "base_uri": "https://localhost:8080/"
        },
        "id": "oZ3S06hny63A",
        "outputId": "7b508075-f9eb-4a94-da6a-ccc020d9b5b0"
      },
      "execution_count": 51,
      "outputs": [
        {
          "output_type": "stream",
          "name": "stdout",
          "text": [
            "tensor([[0., 0., 0.],\n",
            "        [0., 0., 0.]])\n"
          ]
        }
      ]
    },
    {
      "cell_type": "code",
      "source": [
        "c = torch.rand(2,3,10)\n",
        "print(c)"
      ],
      "metadata": {
        "colab": {
          "base_uri": "https://localhost:8080/"
        },
        "id": "YXIuoyTny9Uf",
        "outputId": "36cd5c91-fb06-47b0-c23c-b241707cb3da"
      },
      "execution_count": 56,
      "outputs": [
        {
          "output_type": "stream",
          "name": "stdout",
          "text": [
            "tensor([[[0.9158, 0.3910, 0.1486, 0.2236, 0.3576, 0.4072, 0.1555, 0.6320,\n",
            "          0.4025, 0.7485],\n",
            "         [0.3488, 0.0704, 0.0601, 0.2200, 0.1013, 0.2618, 0.1311, 0.3499,\n",
            "          0.9625, 0.0976],\n",
            "         [0.4202, 0.5979, 0.0196, 0.6075, 0.8417, 0.2471, 0.2819, 0.1580,\n",
            "          0.1331, 0.4024]],\n",
            "\n",
            "        [[0.3416, 0.6164, 0.8204, 0.8343, 0.7676, 0.2855, 0.7857, 0.8534,\n",
            "          0.8888, 0.4645],\n",
            "         [0.0769, 0.3403, 0.6817, 0.0288, 0.8272, 0.0634, 0.0034, 0.8322,\n",
            "          0.4138, 0.4816],\n",
            "         [0.4013, 0.1288, 0.5392, 0.5983, 0.5594, 0.8046, 0.1098, 0.8978,\n",
            "          0.8499, 0.9967]]])\n"
          ]
        }
      ]
    },
    {
      "cell_type": "code",
      "source": [],
      "metadata": {
        "id": "moB2CD1Azehe"
      },
      "execution_count": null,
      "outputs": []
    },
    {
      "cell_type": "code",
      "source": [
        "e= torch.eye(5)\n",
        "print(e)"
      ],
      "metadata": {
        "colab": {
          "base_uri": "https://localhost:8080/"
        },
        "id": "y2Xyxb1RzCzA",
        "outputId": "277ebeb0-e31e-43d0-9f3a-607eefa4ee1a"
      },
      "execution_count": 54,
      "outputs": [
        {
          "output_type": "stream",
          "name": "stdout",
          "text": [
            "tensor([[1., 0., 0., 0., 0.],\n",
            "        [0., 1., 0., 0., 0.],\n",
            "        [0., 0., 1., 0., 0.],\n",
            "        [0., 0., 0., 1., 0.],\n",
            "        [0., 0., 0., 0., 1.]])\n"
          ]
        }
      ]
    },
    {
      "cell_type": "code",
      "source": [
        "f = torch.arange(10)\n",
        "print(f)"
      ],
      "metadata": {
        "colab": {
          "base_uri": "https://localhost:8080/"
        },
        "id": "A4ON-1YQzIER",
        "outputId": "e6aeb9f5-6933-4795-fb59-5b6ef183e9f8"
      },
      "execution_count": 55,
      "outputs": [
        {
          "output_type": "stream",
          "name": "stdout",
          "text": [
            "tensor([0, 1, 2, 3, 4, 5, 6, 7, 8, 9])\n"
          ]
        }
      ]
    },
    {
      "cell_type": "code",
      "source": [
        "g = torch.rand(2,3)\n",
        "print(g)"
      ],
      "metadata": {
        "colab": {
          "base_uri": "https://localhost:8080/"
        },
        "id": "-F9zzbtMzKfG",
        "outputId": "e154c8c1-7961-43c9-d59c-f8d82e34598c"
      },
      "execution_count": 57,
      "outputs": [
        {
          "output_type": "stream",
          "name": "stdout",
          "text": [
            "tensor([[0.1920, 0.3954, 0.6059],\n",
            "        [0.0029, 0.1968, 0.0570]])\n"
          ]
        }
      ]
    },
    {
      "cell_type": "code",
      "source": [
        "# 평균이 0이고, 표준편차가 1\n",
        "h = torch.randn(2,3)\n",
        "print(h)"
      ],
      "metadata": {
        "colab": {
          "base_uri": "https://localhost:8080/"
        },
        "id": "uhjkLDh0zUAo",
        "outputId": "d32c3e21-7050-4b1c-aa26-d07f618682ce"
      },
      "execution_count": 58,
      "outputs": [
        {
          "output_type": "stream",
          "name": "stdout",
          "text": [
            "tensor([[-0.8975, -0.4760, -0.4703],\n",
            "        [-0.2697,  0.6173,  1.5083]])\n"
          ]
        }
      ]
    },
    {
      "cell_type": "code",
      "source": [
        "i = torch.arange(16).reshape(2,2,4)\n",
        "print(i, i.shape)"
      ],
      "metadata": {
        "colab": {
          "base_uri": "https://localhost:8080/"
        },
        "id": "CyiPaDyCzWub",
        "outputId": "084b5962-f754-43ec-d721-0575f88f03a3"
      },
      "execution_count": 61,
      "outputs": [
        {
          "output_type": "stream",
          "name": "stdout",
          "text": [
            "tensor([[[ 0,  1,  2,  3],\n",
            "         [ 4,  5,  6,  7]],\n",
            "\n",
            "        [[ 8,  9, 10, 11],\n",
            "         [12, 13, 14, 15]]]) torch.Size([2, 2, 4])\n"
          ]
        }
      ]
    },
    {
      "cell_type": "code",
      "source": [
        "j = i.permute(2,0,1)  # 인덱스로 가져옴 2,2,4 -> 4,2,2\n",
        "print(j,j.shape)"
      ],
      "metadata": {
        "colab": {
          "base_uri": "https://localhost:8080/"
        },
        "id": "nvTTlIUazBVq",
        "outputId": "cc6f54f9-eeef-4d3d-ea49-6199555f6c12"
      },
      "execution_count": 64,
      "outputs": [
        {
          "output_type": "stream",
          "name": "stdout",
          "text": [
            "tensor([[[ 0,  4],\n",
            "         [ 8, 12]],\n",
            "\n",
            "        [[ 1,  5],\n",
            "         [ 9, 13]],\n",
            "\n",
            "        [[ 2,  6],\n",
            "         [10, 14]],\n",
            "\n",
            "        [[ 3,  7],\n",
            "         [11, 15]]]) torch.Size([4, 2, 2])\n"
          ]
        }
      ]
    },
    {
      "cell_type": "markdown",
      "source": [
        "# **4. 텐서의 인덱싱과 슬라이싱**"
      ],
      "metadata": {
        "id": "I5XwiZz10moW"
      }
    },
    {
      "cell_type": "code",
      "source": [
        "a = torch.arange(1,13).reshape(3,4 )\n",
        "print(a)"
      ],
      "metadata": {
        "colab": {
          "base_uri": "https://localhost:8080/"
        },
        "id": "i8UOzT_v0r8a",
        "outputId": "4d357732-f6dd-422b-cd73-061a599dc6ac"
      },
      "execution_count": 66,
      "outputs": [
        {
          "output_type": "stream",
          "name": "stdout",
          "text": [
            "tensor([[ 1,  2,  3,  4],\n",
            "        [ 5,  6,  7,  8],\n",
            "        [ 9, 10, 11, 12]])\n"
          ]
        }
      ]
    },
    {
      "cell_type": "code",
      "source": [
        "b = torch.arange(1,13,0.5).reshape(6,4)\n",
        "print(b)"
      ],
      "metadata": {
        "colab": {
          "base_uri": "https://localhost:8080/"
        },
        "id": "zeSYARCC04F9",
        "outputId": "1eee0b4d-bc9d-45d9-a38f-965fd2d78a19"
      },
      "execution_count": 67,
      "outputs": [
        {
          "output_type": "stream",
          "name": "stdout",
          "text": [
            "tensor([[ 1.0000,  1.5000,  2.0000,  2.5000],\n",
            "        [ 3.0000,  3.5000,  4.0000,  4.5000],\n",
            "        [ 5.0000,  5.5000,  6.0000,  6.5000],\n",
            "        [ 7.0000,  7.5000,  8.0000,  8.5000],\n",
            "        [ 9.0000,  9.5000, 10.0000, 10.5000],\n",
            "        [11.0000, 11.5000, 12.0000, 12.5000]])\n"
          ]
        }
      ]
    },
    {
      "cell_type": "code",
      "source": [
        "print(a[1])"
      ],
      "metadata": {
        "colab": {
          "base_uri": "https://localhost:8080/"
        },
        "id": "7lmx-azc0wUA",
        "outputId": "286471f3-c634-41c7-d45f-5b22d2fe5e89"
      },
      "execution_count": 68,
      "outputs": [
        {
          "output_type": "stream",
          "name": "stdout",
          "text": [
            "tensor([5, 6, 7, 8])\n"
          ]
        }
      ]
    },
    {
      "cell_type": "code",
      "source": [
        "print(a[1,1])"
      ],
      "metadata": {
        "colab": {
          "base_uri": "https://localhost:8080/"
        },
        "id": "66pchVOk1cck",
        "outputId": "d0f09f6f-cdd3-4caa-999f-ea5490fdfb1b"
      },
      "execution_count": 70,
      "outputs": [
        {
          "output_type": "stream",
          "name": "stdout",
          "text": [
            "tensor(6)\n"
          ]
        }
      ]
    },
    {
      "cell_type": "code",
      "source": [
        "print(a[1:-1])"
      ],
      "metadata": {
        "colab": {
          "base_uri": "https://localhost:8080/"
        },
        "id": "BCWauGjD1lpd",
        "outputId": "429ac67a-d7e4-41a4-a6b5-c83b551c3702"
      },
      "execution_count": 72,
      "outputs": [
        {
          "output_type": "stream",
          "name": "stdout",
          "text": [
            "tensor([[5, 6, 7, 8]])\n"
          ]
        }
      ]
    },
    {
      "cell_type": "code",
      "source": [
        "print(a[1,-2])"
      ],
      "metadata": {
        "colab": {
          "base_uri": "https://localhost:8080/"
        },
        "id": "lx1Aarx210GJ",
        "outputId": "c3356937-0ba4-474f-e366-20145f20d6e3"
      },
      "execution_count": 74,
      "outputs": [
        {
          "output_type": "stream",
          "name": "stdout",
          "text": [
            "tensor(7)\n"
          ]
        }
      ]
    },
    {
      "cell_type": "markdown",
      "source": [
        "# **5. 코랩의 GPU 사용**\n",
        "\n",
        "- 코랩에서 device 변경하는 방법\n",
        "  =상단 메뉴 -> 런타임 -> 런타임 유형변겅 -> 하드웨어 가속기를 GPU로 변경-> 저장 -> 다시 시작 및 모두 실행"
      ],
      "metadata": {
        "id": "gFrRyrDp1_s7"
      }
    },
    {
      "cell_type": "code",
      "source": [
        "tensor = torch.rand(3,4)"
      ],
      "metadata": {
        "id": "FpCj0Ru22eyv"
      },
      "execution_count": 75,
      "outputs": []
    }
  ]
}